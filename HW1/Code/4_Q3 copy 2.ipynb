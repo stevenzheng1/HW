{
 "cells": [
  {
   "cell_type": "code",
   "execution_count": 1,
   "metadata": {},
   "outputs": [
    {
     "name": "stdout",
     "output_type": "stream",
     "text": [
      "INFO: Pandarallel will run on 8 workers.\n",
      "INFO: Pandarallel will use standard multiprocessing data transfer (pipe) to transfer data between the main process and workers.\n"
     ]
    }
   ],
   "source": [
    "from this_settings import *"
   ]
  },
  {
   "cell_type": "markdown",
   "metadata": {},
   "source": [
    "## 1. Load data"
   ]
  },
  {
   "cell_type": "code",
   "execution_count": 2,
   "metadata": {},
   "outputs": [],
   "source": [
    "## Import cleaned data\n",
    "data = pd.read_parquet(directory_cleandata+'data_a.parquet')\n",
    "data = data[(data['year']>=1946) &\n",
    "            (data['year']<=2020)].copy()\n",
    "\n",
    "## Demean the data to match Mankiw and Shapiro\n",
    "## \n",
    "data.set_index('year',\n",
    "               inplace=True)\n",
    "mean = data.mean()\n",
    "#std = data.std()\n",
    "data = data.copy() - mean.copy()\n",
    "#data = (data.copy() - mean.copy()) / std.copy()\n",
    "data.reset_index(inplace=True)"
   ]
  },
  {
   "cell_type": "markdown",
   "metadata": {},
   "source": [
    "## 2. Part a"
   ]
  },
  {
   "cell_type": "code",
   "execution_count": 16,
   "metadata": {},
   "outputs": [],
   "source": [
    "## Regress returns on DP\n",
    "reg_r = sm.OLS(endog=data['log_ret'],\n",
    "               #exog=sm.add_constant(data['log_pd_c_tm1']),\n",
    "               exog=data['log_pd_c_tm1'],\n",
    "               missing='drop')\\\n",
    "        .fit()\n",
    "\n",
    "## Regress PD on lagged PD\n",
    "reg_pd = sm.OLS(endog=data['log_pd_c'],\n",
    "                #exog=sm.add_constant(data['log_pd_c_tm1']),\n",
    "                exog=data['log_pd_c_tm1'],\n",
    "                missing='drop')\\\n",
    "         .fit()\n",
    "\n",
    "## Regress D on D\n",
    "reg_d = sm.OLS(endog=data['log_div_c_yoy'],\n",
    "               exog=sm.add_constant(data['log_pd_c_tm1']),\n",
    "               missing='drop')\\\n",
    "        .fit()\n",
    "\n",
    "## Grab coefficients\n",
    "b_r_data = reg_r.params['log_pd_c_tm1']\n",
    "phi_data = reg_pd.params['log_pd_c_tm1']\n",
    "b_d_data = reg_d.params['log_pd_c_tm1']"
   ]
  },
  {
   "cell_type": "code",
   "execution_count": 17,
   "metadata": {},
   "outputs": [],
   "source": [
    "rho = data['pd_c'].mean() / (1.0+data['pd_c'].mean())"
   ]
  },
  {
   "cell_type": "code",
   "execution_count": 18,
   "metadata": {},
   "outputs": [
    {
     "data": {
      "text/plain": [
       "-1.6200374375330545e-14"
      ]
     },
     "execution_count": 18,
     "metadata": {},
     "output_type": "execute_result"
    }
   ],
   "source": [
    "rho"
   ]
  },
  {
   "cell_type": "code",
   "execution_count": 4,
   "metadata": {},
   "outputs": [
    {
     "name": "stdout",
     "output_type": "stream",
     "text": [
      "                                 OLS Regression Results                                \n",
      "=======================================================================================\n",
      "Dep. Variable:                log_ret   R-squared (uncentered):                   0.062\n",
      "Model:                            OLS   Adj. R-squared (uncentered):              0.050\n",
      "Method:                 Least Squares   F-statistic:                              4.854\n",
      "Date:                Mon, 11 Apr 2022   Prob (F-statistic):                      0.0307\n",
      "Time:                        04:17:53   Log-Likelihood:                          32.241\n",
      "No. Observations:                  74   AIC:                                     -62.48\n",
      "Df Residuals:                      73   BIC:                                     -60.18\n",
      "Df Model:                           1                                                  \n",
      "Covariance Type:            nonrobust                                                  \n",
      "================================================================================\n",
      "                   coef    std err          t      P>|t|      [0.025      0.975]\n",
      "--------------------------------------------------------------------------------\n",
      "log_pd_c_tm1    -0.0955      0.043     -2.203      0.031      -0.182      -0.009\n",
      "==============================================================================\n",
      "Omnibus:                       11.704   Durbin-Watson:                   2.227\n",
      "Prob(Omnibus):                  0.003   Jarque-Bera (JB):               12.160\n",
      "Skew:                          -0.857   Prob(JB):                      0.00229\n",
      "Kurtosis:                       4.002   Cond. No.                         1.00\n",
      "==============================================================================\n",
      "\n",
      "Warnings:\n",
      "[1] Standard Errors assume that the covariance matrix of the errors is correctly specified.\n"
     ]
    }
   ],
   "source": [
    "## Get coefficients\n",
    "print(reg_r.summary())"
   ]
  },
  {
   "cell_type": "code",
   "execution_count": 5,
   "metadata": {},
   "outputs": [
    {
     "name": "stdout",
     "output_type": "stream",
     "text": [
      "                                 OLS Regression Results                                \n",
      "=======================================================================================\n",
      "Dep. Variable:               log_pd_c   R-squared (uncentered):                   0.880\n",
      "Model:                            OLS   Adj. R-squared (uncentered):              0.879\n",
      "Method:                 Least Squares   F-statistic:                              537.0\n",
      "Date:                Mon, 11 Apr 2022   Prob (F-statistic):                    2.20e-35\n",
      "Time:                        04:17:54   Log-Likelihood:                          36.815\n",
      "No. Observations:                  74   AIC:                                     -71.63\n",
      "Df Residuals:                      73   BIC:                                     -69.33\n",
      "Df Model:                           1                                                  \n",
      "Covariance Type:            nonrobust                                                  \n",
      "================================================================================\n",
      "                   coef    std err          t      P>|t|      [0.025      0.975]\n",
      "--------------------------------------------------------------------------------\n",
      "log_pd_c_tm1     0.9444      0.041     23.173      0.000       0.863       1.026\n",
      "==============================================================================\n",
      "Omnibus:                        3.111   Durbin-Watson:                   1.989\n",
      "Prob(Omnibus):                  0.211   Jarque-Bera (JB):                2.603\n",
      "Skew:                          -0.457   Prob(JB):                        0.272\n",
      "Kurtosis:                       3.102   Cond. No.                         1.00\n",
      "==============================================================================\n",
      "\n",
      "Warnings:\n",
      "[1] Standard Errors assume that the covariance matrix of the errors is correctly specified.\n"
     ]
    }
   ],
   "source": [
    "## Get coefficients\n",
    "print(reg_pd.summary())"
   ]
  },
  {
   "cell_type": "code",
   "execution_count": 6,
   "metadata": {},
   "outputs": [],
   "source": [
    "## Get covariance matrix of residuals\n",
    "e_data = pd.DataFrame({'e_r':reg_r.resid,\n",
    "                       'e_pd':reg_pd.resid})\n",
    "e_data_vcv = e_data.cov()"
   ]
  },
  {
   "cell_type": "code",
   "execution_count": 7,
   "metadata": {},
   "outputs": [
    {
     "data": {
      "text/html": [
       "<div>\n",
       "<style scoped>\n",
       "    .dataframe tbody tr th:only-of-type {\n",
       "        vertical-align: middle;\n",
       "    }\n",
       "\n",
       "    .dataframe tbody tr th {\n",
       "        vertical-align: top;\n",
       "    }\n",
       "\n",
       "    .dataframe thead th {\n",
       "        text-align: right;\n",
       "    }\n",
       "</style>\n",
       "<table border=\"1\" class=\"dataframe\">\n",
       "  <thead>\n",
       "    <tr style=\"text-align: right;\">\n",
       "      <th></th>\n",
       "      <th>e_r</th>\n",
       "      <th>e_pd</th>\n",
       "    </tr>\n",
       "  </thead>\n",
       "  <tbody>\n",
       "    <tr>\n",
       "      <th>e_r</th>\n",
       "      <td>0.024826</td>\n",
       "      <td>0.006937</td>\n",
       "    </tr>\n",
       "    <tr>\n",
       "      <th>e_pd</th>\n",
       "      <td>0.006937</td>\n",
       "      <td>0.021936</td>\n",
       "    </tr>\n",
       "  </tbody>\n",
       "</table>\n",
       "</div>"
      ],
      "text/plain": [
       "           e_r      e_pd\n",
       "e_r   0.024826  0.006937\n",
       "e_pd  0.006937  0.021936"
      ]
     },
     "execution_count": 7,
     "metadata": {},
     "output_type": "execute_result"
    }
   ],
   "source": [
    "e_data_vcv"
   ]
  },
  {
   "cell_type": "markdown",
   "metadata": {},
   "source": [
    "## 3. Part b"
   ]
  },
  {
   "cell_type": "code",
   "execution_count": 8,
   "metadata": {},
   "outputs": [],
   "source": [
    "M=10\n",
    "N=75\n",
    "p = e_data.corr().iloc[0,1]\n",
    "e_sim_cov = np.array([[1,p],\n",
    "                      [p,1]])"
   ]
  },
  {
   "cell_type": "code",
   "execution_count": 9,
   "metadata": {},
   "outputs": [
    {
     "name": "stdout",
     "output_type": "stream",
     "text": [
      "CPU times: user 934 ms, sys: 203 ms, total: 1.14 s\n",
      "Wall time: 696 ms\n"
     ]
    }
   ],
   "source": [
    "%%time\n",
    "q3b0 = mankiw_shapiro_quick(M=M,\n",
    "                     N=N,\n",
    "                     e_sim_cov=e_sim_cov,\n",
    "                     phi_data=phi_data*0.0)"
   ]
  },
  {
   "cell_type": "code",
   "execution_count": 10,
   "metadata": {},
   "outputs": [
    {
     "name": "stdout",
     "output_type": "stream",
     "text": [
      "CPU times: user 12.1 s, sys: 1.65 s, total: 13.8 s\n",
      "Wall time: 4.37 s\n"
     ]
    }
   ],
   "source": [
    "%%time\n",
    "q3b01 = mankiw_shapiro_quick(M=M,\n",
    "                     N=N,\n",
    "                     e_sim_cov=e_sim_cov,\n",
    "                     phi_data=phi_data*0.1)\n",
    "\n",
    "q3b02 = mankiw_shapiro_quick(M=M,\n",
    "                     N=N,\n",
    "                     e_sim_cov=e_sim_cov,\n",
    "                     phi_data=phi_data*0.2)\n",
    "\n",
    "q3b03 = mankiw_shapiro_quick(M=M,\n",
    "                     N=N,\n",
    "                     e_sim_cov=e_sim_cov,\n",
    "                     phi_data=phi_data*0.3)\n",
    "\n",
    "q3b04 = mankiw_shapiro_quick(M=M,\n",
    "                     N=N,\n",
    "                     e_sim_cov=e_sim_cov,\n",
    "                     phi_data=phi_data*0.4)\n",
    "\n",
    "q3b05 = mankiw_shapiro_quick(M=M,\n",
    "                     N=N,\n",
    "                     e_sim_cov=e_sim_cov,\n",
    "                     phi_data=phi_data*0.5)\n",
    "\n",
    "q3b06 = mankiw_shapiro_quick(M=M,\n",
    "                     N=N,\n",
    "                     e_sim_cov=e_sim_cov,\n",
    "                     phi_data=phi_data*0.6)\n",
    "\n",
    "q3b07 = mankiw_shapiro_quick(M=M,\n",
    "                     N=N,\n",
    "                     e_sim_cov=e_sim_cov,\n",
    "                     phi_data=phi_data*0.7)\n",
    "\n",
    "q3b08 = mankiw_shapiro_quick(M=M,\n",
    "                     N=N,\n",
    "                     e_sim_cov=e_sim_cov,\n",
    "                     phi_data=phi_data*0.8)\n",
    "\n",
    "q3b09 = mankiw_shapiro_quick(M=M,\n",
    "                     N=N,\n",
    "                     e_sim_cov=e_sim_cov,\n",
    "                     phi_data=phi_data*0.9)\n",
    "\n",
    "q3b1 = mankiw_shapiro_quick(M=M,\n",
    "                     N=N,\n",
    "                     e_sim_cov=e_sim_cov,\n",
    "                     phi_data=phi_data*1)"
   ]
  },
  {
   "cell_type": "code",
   "execution_count": 11,
   "metadata": {},
   "outputs": [],
   "source": [
    "br0 = q3b0['stats'].loc['mean','b_r_sim']\n",
    "br01 = q3b01['stats'].loc['mean','b_r_sim']\n",
    "br02 = q3b02['stats'].loc['mean','b_r_sim']\n",
    "br03 = q3b03['stats'].loc['mean','b_r_sim']\n",
    "br04 = q3b04['stats'].loc['mean','b_r_sim']\n",
    "br05 = q3b05['stats'].loc['mean','b_r_sim']\n",
    "br06 = q3b06['stats'].loc['mean','b_r_sim']\n",
    "br07 = q3b07['stats'].loc['mean','b_r_sim']\n",
    "br08 = q3b08['stats'].loc['mean','b_r_sim']\n",
    "br09 = q3b09['stats'].loc['mean','b_r_sim']\n",
    "br10 = q3b1['stats'].loc['mean','b_r_sim']\n",
    "\n",
    "phi0 = q3b0['stats'].loc['mean','phi_sim']\n",
    "phi01 = q3b01['stats'].loc['mean','phi_sim']\n",
    "phi02 = q3b02['stats'].loc['mean','phi_sim']\n",
    "phi03 = q3b03['stats'].loc['mean','phi_sim']\n",
    "phi04 = q3b04['stats'].loc['mean','phi_sim']\n",
    "phi05 = q3b05['stats'].loc['mean','phi_sim']\n",
    "phi06 = q3b06['stats'].loc['mean','phi_sim']\n",
    "phi07 = q3b07['stats'].loc['mean','phi_sim']\n",
    "phi08 = q3b08['stats'].loc['mean','phi_sim']\n",
    "phi09 = q3b09['stats'].loc['mean','phi_sim']\n",
    "phi10 = q3b1['stats'].loc['mean','phi_sim']"
   ]
  },
  {
   "cell_type": "code",
   "execution_count": 12,
   "metadata": {},
   "outputs": [],
   "source": [
    "plot = pd.DataFrame({'lambda':[0,0.1,0.2,0.3,0.4,0.5,0.6,0.7,0.8,0.9,1],\n",
    "                     'b_r':[br0,br01,br02,br03,br04,br05,br06,br07,br08,br09,br10],\n",
    "                     'phi':[phi0,phi01,phi02,phi03,phi04,phi05,phi06,phi07,phi08,phi09,phi10]})"
   ]
  },
  {
   "cell_type": "code",
   "execution_count": 19,
   "metadata": {},
   "outputs": [],
   "source": [
    "plot['br_implied'] = rho* plot['phi'].copy() + b_d_data - 1.0"
   ]
  },
  {
   "cell_type": "code",
   "execution_count": 20,
   "metadata": {},
   "outputs": [
    {
     "data": {
      "text/html": [
       "<div>\n",
       "<style scoped>\n",
       "    .dataframe tbody tr th:only-of-type {\n",
       "        vertical-align: middle;\n",
       "    }\n",
       "\n",
       "    .dataframe tbody tr th {\n",
       "        vertical-align: top;\n",
       "    }\n",
       "\n",
       "    .dataframe thead th {\n",
       "        text-align: right;\n",
       "    }\n",
       "</style>\n",
       "<table border=\"1\" class=\"dataframe\">\n",
       "  <thead>\n",
       "    <tr style=\"text-align: right;\">\n",
       "      <th></th>\n",
       "      <th>lambda</th>\n",
       "      <th>b_r</th>\n",
       "      <th>phi</th>\n",
       "      <th>br_implied</th>\n",
       "    </tr>\n",
       "  </thead>\n",
       "  <tbody>\n",
       "    <tr>\n",
       "      <th>0</th>\n",
       "      <td>0.0</td>\n",
       "      <td>0.264287</td>\n",
       "      <td>0.012887</td>\n",
       "      <td>-1.024429</td>\n",
       "    </tr>\n",
       "    <tr>\n",
       "      <th>1</th>\n",
       "      <td>0.1</td>\n",
       "      <td>0.265696</td>\n",
       "      <td>0.108668</td>\n",
       "      <td>-1.024429</td>\n",
       "    </tr>\n",
       "    <tr>\n",
       "      <th>2</th>\n",
       "      <td>0.2</td>\n",
       "      <td>0.262360</td>\n",
       "      <td>0.204475</td>\n",
       "      <td>-1.024429</td>\n",
       "    </tr>\n",
       "    <tr>\n",
       "      <th>3</th>\n",
       "      <td>0.3</td>\n",
       "      <td>0.254143</td>\n",
       "      <td>0.299661</td>\n",
       "      <td>-1.024429</td>\n",
       "    </tr>\n",
       "    <tr>\n",
       "      <th>4</th>\n",
       "      <td>0.4</td>\n",
       "      <td>0.240905</td>\n",
       "      <td>0.393616</td>\n",
       "      <td>-1.024429</td>\n",
       "    </tr>\n",
       "    <tr>\n",
       "      <th>5</th>\n",
       "      <td>0.5</td>\n",
       "      <td>0.222380</td>\n",
       "      <td>0.485833</td>\n",
       "      <td>-1.024429</td>\n",
       "    </tr>\n",
       "    <tr>\n",
       "      <th>6</th>\n",
       "      <td>0.6</td>\n",
       "      <td>0.198034</td>\n",
       "      <td>0.575979</td>\n",
       "      <td>-1.024429</td>\n",
       "    </tr>\n",
       "    <tr>\n",
       "      <th>7</th>\n",
       "      <td>0.7</td>\n",
       "      <td>0.166981</td>\n",
       "      <td>0.663977</td>\n",
       "      <td>-1.024429</td>\n",
       "    </tr>\n",
       "    <tr>\n",
       "      <th>8</th>\n",
       "      <td>0.8</td>\n",
       "      <td>0.128229</td>\n",
       "      <td>0.750203</td>\n",
       "      <td>-1.024429</td>\n",
       "    </tr>\n",
       "    <tr>\n",
       "      <th>9</th>\n",
       "      <td>0.9</td>\n",
       "      <td>0.082193</td>\n",
       "      <td>0.836351</td>\n",
       "      <td>-1.024429</td>\n",
       "    </tr>\n",
       "    <tr>\n",
       "      <th>10</th>\n",
       "      <td>1.0</td>\n",
       "      <td>0.036037</td>\n",
       "      <td>0.924766</td>\n",
       "      <td>-1.024429</td>\n",
       "    </tr>\n",
       "  </tbody>\n",
       "</table>\n",
       "</div>"
      ],
      "text/plain": [
       "    lambda       b_r       phi  br_implied\n",
       "0      0.0  0.264287  0.012887   -1.024429\n",
       "1      0.1  0.265696  0.108668   -1.024429\n",
       "2      0.2  0.262360  0.204475   -1.024429\n",
       "3      0.3  0.254143  0.299661   -1.024429\n",
       "4      0.4  0.240905  0.393616   -1.024429\n",
       "5      0.5  0.222380  0.485833   -1.024429\n",
       "6      0.6  0.198034  0.575979   -1.024429\n",
       "7      0.7  0.166981  0.663977   -1.024429\n",
       "8      0.8  0.128229  0.750203   -1.024429\n",
       "9      0.9  0.082193  0.836351   -1.024429\n",
       "10     1.0  0.036037  0.924766   -1.024429"
      ]
     },
     "execution_count": 20,
     "metadata": {},
     "output_type": "execute_result"
    }
   ],
   "source": [
    "plot"
   ]
  },
  {
   "cell_type": "code",
   "execution_count": null,
   "metadata": {},
   "outputs": [],
   "source": []
  },
  {
   "cell_type": "code",
   "execution_count": null,
   "metadata": {},
   "outputs": [],
   "source": []
  },
  {
   "cell_type": "code",
   "execution_count": null,
   "metadata": {},
   "outputs": [
    {
     "data": {
      "text/plain": [
       "-0.09551542632903672"
      ]
     },
     "execution_count": 16,
     "metadata": {},
     "output_type": "execute_result"
    }
   ],
   "source": [
    "b_r_data"
   ]
  },
  {
   "cell_type": "code",
   "execution_count": null,
   "metadata": {},
   "outputs": [],
   "source": []
  },
  {
   "cell_type": "code",
   "execution_count": null,
   "metadata": {},
   "outputs": [
    {
     "data": {
      "text/plain": [
       "'../Figures/'"
      ]
     },
     "execution_count": 17,
     "metadata": {},
     "output_type": "execute_result"
    }
   ],
   "source": [
    "directory_figures"
   ]
  },
  {
   "cell_type": "code",
   "execution_count": null,
   "metadata": {},
   "outputs": [
    {
     "data": {
      "image/png": "[encoded data removed]",
      "text/plain": [
       "<Figure size 720x360 with 2 Axes>"
      ]
     },
     "metadata": {},
     "output_type": "display_data"
    }
   ],
   "source": [
    "fig, axes = plt.subplots(nrows=1, ncols=2,figsize=(10,5))\n",
    "\n",
    "plot.set_index('lambda')['b_r'].plot(ax=axes[0],label='Simulated')\n",
    "axes[0].axhline(y=b_r_data,color='r',linestyle='-',label='Estimated from data')\n",
    "axes[0].title.set_text('$b_r$')\n",
    "axes[0].set_xlabel('$\\lambda$')\n",
    "\n",
    "plot.set_index('lambda')['phi'].plot(ax=axes[1])\n",
    "axes[1].axhline(y=phi_data,color='r',linestyle='-')\n",
    "axes[1].title.set_text('$\\phi$')\n",
    "axes[1].set_xlabel('$\\lambda$')\n",
    "\n",
    "handles, labels = axes[0].get_legend_handles_labels()#\n",
    "fig.legend(handles, labels, loc='lower center',ncol=2)\n",
    "\n",
    "plt.tight_layout()\n",
    "#plt.subplots_adjust(top=0.925)\n",
    "plt.subplots_adjust(bottom=0.175)\n",
    "\n",
    "plt.savefig(directory_figures+'q3.png',\n",
    "            bbox_inches='tight',\n",
    "            dpi=150)"
   ]
  },
  {
   "cell_type": "code",
   "execution_count": null,
   "metadata": {},
   "outputs": [],
   "source": [
    "print('here')"
   ]
  },
  {
   "cell_type": "code",
   "execution_count": null,
   "metadata": {},
   "outputs": [],
   "source": []
  },
  {
   "cell_type": "code",
   "execution_count": null,
   "metadata": {},
   "outputs": [],
   "source": []
  },
  {
   "cell_type": "code",
   "execution_count": null,
   "metadata": {},
   "outputs": [],
   "source": []
  },
  {
   "cell_type": "code",
   "execution_count": null,
   "metadata": {},
   "outputs": [],
   "source": []
  },
  {
   "cell_type": "code",
   "execution_count": 18,
   "metadata": {},
   "outputs": [],
   "source": [
    "q3b['stats'].to_parquet('../Output/q3b_stats_std.parquet')\n",
    "q3b['results'].to_parquet('../Output/q3b_results_std.parquet')"
   ]
  },
  {
   "cell_type": "code",
   "execution_count": 20,
   "metadata": {},
   "outputs": [
    {
     "data": {
      "text/html": [
       "<div>\n",
       "<style scoped>\n",
       "    .dataframe tbody tr th:only-of-type {\n",
       "        vertical-align: middle;\n",
       "    }\n",
       "\n",
       "    .dataframe tbody tr th {\n",
       "        vertical-align: top;\n",
       "    }\n",
       "\n",
       "    .dataframe thead th {\n",
       "        text-align: right;\n",
       "    }\n",
       "</style>\n",
       "<table border=\"1\" class=\"dataframe\">\n",
       "  <thead>\n",
       "    <tr style=\"text-align: right;\">\n",
       "      <th></th>\n",
       "      <th>b_r_sim</th>\n",
       "      <th>phi_sim</th>\n",
       "    </tr>\n",
       "  </thead>\n",
       "  <tbody>\n",
       "    <tr>\n",
       "      <th>mean</th>\n",
       "      <td>0.038986</td>\n",
       "      <td>0.921879</td>\n",
       "    </tr>\n",
       "    <tr>\n",
       "      <th>std</th>\n",
       "      <td>0.045979</td>\n",
       "      <td>0.048743</td>\n",
       "    </tr>\n",
       "  </tbody>\n",
       "</table>\n",
       "</div>"
      ],
      "text/plain": [
       "       b_r_sim   phi_sim\n",
       "mean  0.038986  0.921879\n",
       "std   0.045979  0.048743"
      ]
     },
     "execution_count": 20,
     "metadata": {},
     "output_type": "execute_result"
    }
   ],
   "source": [
    "q3b['stats']"
   ]
  },
  {
   "cell_type": "code",
   "execution_count": null,
   "metadata": {},
   "outputs": [],
   "source": []
  },
  {
   "cell_type": "code",
   "execution_count": null,
   "metadata": {},
   "outputs": [],
   "source": []
  },
  {
   "cell_type": "markdown",
   "metadata": {},
   "source": [
    "## 4. Part c"
   ]
  },
  {
   "cell_type": "code",
   "execution_count": 15,
   "metadata": {},
   "outputs": [],
   "source": [
    "e_sim_cov0 = np.array([[1,0],\n",
    "                       [0,1]])"
   ]
  },
  {
   "cell_type": "code",
   "execution_count": 16,
   "metadata": {},
   "outputs": [
    {
     "name": "stdout",
     "output_type": "stream",
     "text": [
      "CPU times: user 20min 7s, sys: 37.5 s, total: 20min 44s\n",
      "Wall time: 5min 35s\n"
     ]
    }
   ],
   "source": [
    "%%time\n",
    "q3c = mankiw_shapiro(M=M,\n",
    "                     N=N,\n",
    "                     e_sim_cov=e_sim_cov0,\n",
    "                     phi_data=phi_data)"
   ]
  },
  {
   "cell_type": "code",
   "execution_count": 17,
   "metadata": {},
   "outputs": [
    {
     "name": "stdout",
     "output_type": "stream",
     "text": [
      "here\n"
     ]
    }
   ],
   "source": [
    "print('here')"
   ]
  },
  {
   "cell_type": "code",
   "execution_count": 18,
   "metadata": {},
   "outputs": [],
   "source": [
    "#q3c['stats'].to_parquet('../Output/q3c_stats.parquet')\n",
    "#q3c['results'].to_parquet('../Output/q3c_results.parquet')"
   ]
  },
  {
   "cell_type": "code",
   "execution_count": 8,
   "metadata": {},
   "outputs": [],
   "source": [
    "q3c_stats = pd.read_parquet('../Output/q3c_stats.parquet')"
   ]
  },
  {
   "cell_type": "code",
   "execution_count": 9,
   "metadata": {},
   "outputs": [
    {
     "data": {
      "text/html": [
       "<div>\n",
       "<style scoped>\n",
       "    .dataframe tbody tr th:only-of-type {\n",
       "        vertical-align: middle;\n",
       "    }\n",
       "\n",
       "    .dataframe tbody tr th {\n",
       "        vertical-align: top;\n",
       "    }\n",
       "\n",
       "    .dataframe thead th {\n",
       "        text-align: right;\n",
       "    }\n",
       "</style>\n",
       "<table border=\"1\" class=\"dataframe\">\n",
       "  <thead>\n",
       "    <tr style=\"text-align: right;\">\n",
       "      <th></th>\n",
       "      <th>b_r_sim</th>\n",
       "      <th>phi_sim</th>\n",
       "    </tr>\n",
       "  </thead>\n",
       "  <tbody>\n",
       "    <tr>\n",
       "      <th>mean</th>\n",
       "      <td>0.000003</td>\n",
       "      <td>0.923749</td>\n",
       "    </tr>\n",
       "    <tr>\n",
       "      <th>std</th>\n",
       "      <td>0.043724</td>\n",
       "      <td>0.048330</td>\n",
       "    </tr>\n",
       "  </tbody>\n",
       "</table>\n",
       "</div>"
      ],
      "text/plain": [
       "       b_r_sim   phi_sim\n",
       "mean  0.000003  0.923749\n",
       "std   0.043724  0.048330"
      ]
     },
     "execution_count": 9,
     "metadata": {},
     "output_type": "execute_result"
    }
   ],
   "source": [
    "q3c_stats"
   ]
  },
  {
   "cell_type": "code",
   "execution_count": null,
   "metadata": {},
   "outputs": [],
   "source": []
  },
  {
   "cell_type": "code",
   "execution_count": null,
   "metadata": {},
   "outputs": [],
   "source": []
  },
  {
   "cell_type": "code",
   "execution_count": null,
   "metadata": {},
   "outputs": [],
   "source": []
  },
  {
   "cell_type": "code",
   "execution_count": null,
   "metadata": {},
   "outputs": [],
   "source": []
  },
  {
   "cell_type": "code",
   "execution_count": null,
   "metadata": {},
   "outputs": [],
   "source": []
  },
  {
   "cell_type": "code",
   "execution_count": null,
   "metadata": {},
   "outputs": [],
   "source": []
  },
  {
   "cell_type": "code",
   "execution_count": null,
   "metadata": {},
   "outputs": [],
   "source": []
  },
  {
   "cell_type": "code",
   "execution_count": null,
   "metadata": {},
   "outputs": [],
   "source": []
  },
  {
   "cell_type": "code",
   "execution_count": null,
   "metadata": {},
   "outputs": [],
   "source": []
  },
  {
   "cell_type": "code",
   "execution_count": null,
   "metadata": {},
   "outputs": [],
   "source": []
  },
  {
   "cell_type": "code",
   "execution_count": null,
   "metadata": {},
   "outputs": [],
   "source": []
  },
  {
   "cell_type": "code",
   "execution_count": null,
   "metadata": {},
   "outputs": [],
   "source": []
  },
  {
   "cell_type": "code",
   "execution_count": null,
   "metadata": {},
   "outputs": [],
   "source": []
  },
  {
   "cell_type": "code",
   "execution_count": null,
   "metadata": {},
   "outputs": [],
   "source": []
  },
  {
   "cell_type": "code",
   "execution_count": null,
   "metadata": {},
   "outputs": [],
   "source": []
  },
  {
   "cell_type": "code",
   "execution_count": null,
   "metadata": {},
   "outputs": [],
   "source": []
  },
  {
   "cell_type": "code",
   "execution_count": null,
   "metadata": {},
   "outputs": [],
   "source": []
  },
  {
   "cell_type": "code",
   "execution_count": null,
   "metadata": {},
   "outputs": [],
   "source": []
  },
  {
   "cell_type": "code",
   "execution_count": null,
   "metadata": {},
   "outputs": [],
   "source": []
  },
  {
   "cell_type": "code",
   "execution_count": null,
   "metadata": {},
   "outputs": [],
   "source": []
  },
  {
   "cell_type": "code",
   "execution_count": null,
   "metadata": {},
   "outputs": [],
   "source": []
  },
  {
   "cell_type": "code",
   "execution_count": null,
   "metadata": {},
   "outputs": [],
   "source": []
  },
  {
   "cell_type": "code",
   "execution_count": null,
   "metadata": {},
   "outputs": [],
   "source": []
  },
  {
   "cell_type": "code",
   "execution_count": null,
   "metadata": {},
   "outputs": [],
   "source": []
  },
  {
   "cell_type": "code",
   "execution_count": null,
   "metadata": {},
   "outputs": [],
   "source": []
  },
  {
   "cell_type": "code",
   "execution_count": null,
   "metadata": {},
   "outputs": [],
   "source": []
  },
  {
   "cell_type": "code",
   "execution_count": null,
   "metadata": {},
   "outputs": [],
   "source": []
  },
  {
   "cell_type": "code",
   "execution_count": null,
   "metadata": {},
   "outputs": [],
   "source": []
  },
  {
   "cell_type": "code",
   "execution_count": null,
   "metadata": {},
   "outputs": [],
   "source": []
  },
  {
   "cell_type": "code",
   "execution_count": null,
   "metadata": {},
   "outputs": [],
   "source": []
  },
  {
   "cell_type": "code",
   "execution_count": 212,
   "metadata": {},
   "outputs": [],
   "source": [
    "##Don't forget to set the seed!\n",
    "rng = np.random.default_rng(seed)"
   ]
  },
  {
   "cell_type": "code",
   "execution_count": 213,
   "metadata": {},
   "outputs": [],
   "source": [
    "## Following Mankiw and Shapiro\n",
    "\n",
    "## Draw e_r and e_pd from size-N bivarioate normal\n",
    "## variances=1, covariance= corr(e_r,e_pd)\n",
    "## ordered as e_r, e_pd\n",
    "e_sim = rng.multivariate_normal(mean=[0,0],\n",
    "                                cov=np.array([[1,p],\n",
    "                                              [p,1]]),\n",
    "                                size=N)\n",
    "e_r_sim = e_sim[:,0]\n",
    "e_pd_sim = e_sim[:,1]\n",
    "\n",
    "## Set Y=v_t\n",
    "## Set r = e_r_sim\n",
    "r_sim = e_r_sim\n",
    "\n",
    "## Generate X+t from eq 3 using innovations e\n",
    "## Generate pd_t from pd AR(1) using innovations e_pd\n",
    "## Initial value pd_0 is random from univariate normal, mean 0 and variance 1/(1-phi^2)\n",
    "## Note: initial value gets used so we keep number of observations = N in the regression\n",
    "## of pd(t) on pd(t-1)\n",
    "pd_sim_0 = rng.normal(loc=0,\n",
    "                      scale=np.sqrt(1.0/(1.0-phi_data**2))) # SD\n",
    "pd_sim_panda = pd.DataFrame({'e_pd':e_pd_sim})\n",
    "pd_sim_panda['pd'] = np.nan\n",
    "pd_sim_panda.loc[0,'pd'] = pd_sim_0\n",
    "for t in range(1,len(pd_sim_panda)+2):\n",
    "    if t==0:\n",
    "        pd_sim_tm1 = pd_sim_0\n",
    "    if t>0:\n",
    "        pd_sim_tm1 = pd_sim_panda.loc[t-1,'pd'].copy()\n",
    "    if t==len(pd_sim_panda)+1:\n",
    "        pd_sim_panda.loc[t,'pd'] = np.nan\n",
    "        break\n",
    "    pd_sim_panda.loc[t,'pd'] = phi_data * pd_sim_tm1 + pd_sim_panda.loc[t-1,'e_pd'].copy()\n",
    "pd_sim_panda['pd_tm1'] = pd_sim_panda['pd'].copy().shift()\n",
    "pd_sim_panda.dropna(subset=['pd','pd_tm1'],\n",
    "                    inplace=True)\n",
    "pd_sim = pd_sim_panda['pd'].copy().values\n",
    "pd_sim_tm1 = pd_sim_panda['pd_tm1'].copy().values\n",
    "\n",
    "## Estimate equation 2, grab t-stat\n",
    "## Estimate return regression using generated data\n",
    "reg_r_sim = sm.OLS(endog=r_sim,\n",
    "                   exog=pd_sim,)\\\n",
    "            .fit()\n",
    "\n",
    "## Estimate pd regression using generated data\n",
    "reg_pd_sim = sm.OLS(endog=pd_sim,\n",
    "                    exog=pd_sim_tm1,)\\\n",
    "             .fit()\n",
    "             \n",
    "## Grab regression coefficients\n",
    "b_r_sim = reg_r_sim.params[0]\n",
    "phi_sim = reg_pd_sim.params[0]"
   ]
  },
  {
   "cell_type": "code",
   "execution_count": 214,
   "metadata": {},
   "outputs": [
    {
     "data": {
      "text/plain": [
       "0.005840191050040267"
      ]
     },
     "execution_count": 214,
     "metadata": {},
     "output_type": "execute_result"
    }
   ],
   "source": [
    "b_r_sim"
   ]
  },
  {
   "cell_type": "code",
   "execution_count": 215,
   "metadata": {},
   "outputs": [
    {
     "data": {
      "text/plain": [
       "0.005840191050040267"
      ]
     },
     "execution_count": 215,
     "metadata": {},
     "output_type": "execute_result"
    }
   ],
   "source": [
    "b_r_sim"
   ]
  },
  {
   "cell_type": "code",
   "execution_count": 204,
   "metadata": {},
   "outputs": [
    {
     "data": {
      "text/plain": [
       "0.9644423919636502"
      ]
     },
     "execution_count": 204,
     "metadata": {},
     "output_type": "execute_result"
    }
   ],
   "source": [
    "phi_sim"
   ]
  },
  {
   "cell_type": "code",
   "execution_count": null,
   "metadata": {},
   "outputs": [
    {
     "data": {
      "text/plain": [
       "0.9644423919636502"
      ]
     },
     "metadata": {},
     "output_type": "display_data"
    }
   ],
   "source": [
    "phi_sim"
   ]
  },
  {
   "cell_type": "code",
   "execution_count": 175,
   "metadata": {},
   "outputs": [],
   "source": []
  },
  {
   "cell_type": "code",
   "execution_count": null,
   "metadata": {},
   "outputs": [],
   "source": []
  },
  {
   "cell_type": "code",
   "execution_count": 168,
   "metadata": {},
   "outputs": [
    {
     "name": "stdout",
     "output_type": "stream",
     "text": [
      "                                 OLS Regression Results                                \n",
      "=======================================================================================\n",
      "Dep. Variable:                      y   R-squared (uncentered):                   0.008\n",
      "Model:                            OLS   Adj. R-squared (uncentered):             -0.006\n",
      "Method:                 Least Squares   F-statistic:                             0.5842\n",
      "Date:                Sun, 10 Apr 2022   Prob (F-statistic):                       0.447\n",
      "Time:                        23:18:08   Log-Likelihood:                         -93.472\n",
      "No. Observations:                  75   AIC:                                      188.9\n",
      "Df Residuals:                      74   BIC:                                      191.3\n",
      "Df Model:                           1                                                  \n",
      "Covariance Type:            nonrobust                                                  \n",
      "==============================================================================\n",
      "                 coef    std err          t      P>|t|      [0.025      0.975]\n",
      "------------------------------------------------------------------------------\n",
      "x1             0.0407      0.053      0.764      0.447      -0.065       0.147\n",
      "==============================================================================\n",
      "Omnibus:                        0.092   Durbin-Watson:                   1.877\n",
      "Prob(Omnibus):                  0.955   Jarque-Bera (JB):                0.197\n",
      "Skew:                          -0.078   Prob(JB):                        0.906\n",
      "Kurtosis:                       2.803   Cond. No.                         1.00\n",
      "==============================================================================\n",
      "\n",
      "Warnings:\n",
      "[1] Standard Errors assume that the covariance matrix of the errors is correctly specified.\n"
     ]
    }
   ],
   "source": [
    "print(reg_r_sim.summary())"
   ]
  },
  {
   "cell_type": "code",
   "execution_count": 169,
   "metadata": {},
   "outputs": [
    {
     "name": "stdout",
     "output_type": "stream",
     "text": [
      "                                 OLS Regression Results                                \n",
      "=======================================================================================\n",
      "Dep. Variable:                      y   R-squared (uncentered):                   0.663\n",
      "Model:                            OLS   Adj. R-squared (uncentered):              0.658\n",
      "Method:                 Least Squares   F-statistic:                              145.5\n",
      "Date:                Sun, 10 Apr 2022   Prob (F-statistic):                    3.83e-19\n",
      "Time:                        23:18:17   Log-Likelihood:                         -111.26\n",
      "No. Observations:                  75   AIC:                                      224.5\n",
      "Df Residuals:                      74   BIC:                                      226.8\n",
      "Df Model:                           1                                                  \n",
      "Covariance Type:            nonrobust                                                  \n",
      "==============================================================================\n",
      "                 coef    std err          t      P>|t|      [0.025      0.975]\n",
      "------------------------------------------------------------------------------\n",
      "x1             0.8619      0.071     12.061      0.000       0.720       1.004\n",
      "==============================================================================\n",
      "Omnibus:                        0.951   Durbin-Watson:                   2.185\n",
      "Prob(Omnibus):                  0.622   Jarque-Bera (JB):                0.584\n",
      "Skew:                           0.209   Prob(JB):                        0.747\n",
      "Kurtosis:                       3.111   Cond. No.                         1.00\n",
      "==============================================================================\n",
      "\n",
      "Warnings:\n",
      "[1] Standard Errors assume that the covariance matrix of the errors is correctly specified.\n"
     ]
    }
   ],
   "source": [
    "print(reg_pd_sim.summary())"
   ]
  },
  {
   "cell_type": "code",
   "execution_count": null,
   "metadata": {},
   "outputs": [],
   "source": []
  },
  {
   "cell_type": "code",
   "execution_count": null,
   "metadata": {},
   "outputs": [],
   "source": []
  },
  {
   "cell_type": "code",
   "execution_count": null,
   "metadata": {},
   "outputs": [],
   "source": []
  },
  {
   "cell_type": "code",
   "execution_count": null,
   "metadata": {},
   "outputs": [],
   "source": []
  },
  {
   "cell_type": "code",
   "execution_count": null,
   "metadata": {},
   "outputs": [],
   "source": []
  },
  {
   "cell_type": "code",
   "execution_count": null,
   "metadata": {},
   "outputs": [],
   "source": []
  },
  {
   "cell_type": "code",
   "execution_count": null,
   "metadata": {},
   "outputs": [],
   "source": []
  },
  {
   "cell_type": "code",
   "execution_count": null,
   "metadata": {},
   "outputs": [],
   "source": []
  },
  {
   "cell_type": "code",
   "execution_count": null,
   "metadata": {},
   "outputs": [],
   "source": []
  }
 ],
 "metadata": {
  "interpreter": {
   "hash": "e552f05e79514180fcdba6f4254ada59d081db11e27ce9e937d58c6f6786d456"
  },
  "kernelspec": {
   "display_name": "Python 3.8.1 ('py38')",
   "language": "python",
   "name": "python3"
  },
  "language_info": {
   "codemirror_mode": {
    "name": "ipython",
    "version": 3
   },
   "file_extension": ".py",
   "mimetype": "text/x-python",
   "name": "python",
   "nbconvert_exporter": "python",
   "pygments_lexer": "ipython3",
   "version": "3.8.1"
  },
  "orig_nbformat": 4
 },
 "nbformat": 4,
 "nbformat_minor": 2
}
