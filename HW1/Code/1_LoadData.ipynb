{
 "cells": [
  {
   "cell_type": "code",
   "execution_count": 1,
   "metadata": {},
   "outputs": [
    {
     "name": "stdout",
     "output_type": "stream",
     "text": [
      "INFO: Pandarallel will run on 8 workers.\n",
      "INFO: Pandarallel will use standard multiprocessing data transfer (pipe) to transfer data between the main process and workers.\n"
     ]
    }
   ],
   "source": [
    "from this_settings import *"
   ]
  },
  {
   "cell_type": "markdown",
   "metadata": {},
   "source": [
    "## 1. Load data"
   ]
  },
  {
   "cell_type": "code",
   "execution_count": 2,
   "metadata": {},
   "outputs": [],
   "source": [
    "## CRSP\n",
    "data_crsp = pd.read_csv(directory_rawdata+'data_crsp.csv')\n",
    "data_crsp['date'] = pd.to_datetime(data_crsp['DATE'],format='%Y%m%d') +\\\n",
    "                    pd.offsets.MonthEnd(0)\n",
    "data_crsp = data_crsp[['date','vwretd','vwretx','totval']].copy()"
   ]
  },
  {
   "cell_type": "code",
   "execution_count": 3,
   "metadata": {},
   "outputs": [],
   "source": [
    "## Kenneth French's data\n",
    "data_ff = pd.read_excel(directory_rawdata+'data_ff.xlsx')\n",
    "data_ff.rename(columns={'Unnamed: 0':'ym'},\n",
    "               inplace=True)\n",
    "data_ff['ym'] = data_ff['ym'].astype(str)\n",
    "data_ff['y'] = data_ff['ym'].str[:4]\n",
    "data_ff['m'] = data_ff['ym'].str[-2:]\n",
    "data_ff['date'] = pd.to_datetime(data_ff['y'] + '/' + data_ff['m'] + '/1') +\\\n",
    "                  pd.offsets.MonthEnd(0)\n",
    "data_ff.columns = [x.lower() for x in data_ff.columns]\n",
    "data_ff.rename(columns={'mkt-rf':'mkt_rf'},\n",
    "               inplace=True)\n",
    "data_ff['mkt'] = data_ff['mkt_rf'].copy() + data_ff['rf'].copy()\n",
    "\n",
    "## Sub\n",
    "data_ff = data_ff[['date','mkt_rf','mkt','rf','hml','smb']]\n",
    "\n",
    "## /100 to 5% is 0.05\n",
    "data_ff.set_index(['date'],\n",
    "                  inplace=True)\n",
    "data_ff = data_ff.copy()/100.0\n",
    "data_ff.reset_index(inplace=True)"
   ]
  },
  {
   "cell_type": "markdown",
   "metadata": {},
   "source": [
    "## 2. Merge and construct dividends monthly"
   ]
  },
  {
   "cell_type": "code",
   "execution_count": 4,
   "metadata": {},
   "outputs": [],
   "source": [
    "## Merge\n",
    "data_m = pd.merge(left=data_crsp,\n",
    "                  right=data_ff,\n",
    "                  on=['date'],\n",
    "                  how='left')"
   ]
  },
  {
   "cell_type": "code",
   "execution_count": 5,
   "metadata": {},
   "outputs": [],
   "source": [
    "## Construct dividends (monthly)\n",
    "data_m.sort_values(['date'],\n",
    "                 inplace=True)\n",
    "data_m['totval_tm1'] = data_m['totval'].shift()\n",
    "data_m['div'] = (data_m['vwretd'].copy() - data_m['vwretx'].copy()) *\\\n",
    "                 data_m['totval_tm1'].copy()"
   ]
  },
  {
   "cell_type": "code",
   "execution_count": 6,
   "metadata": {},
   "outputs": [],
   "source": [
    "## Construct dividends, reinvested at market and cash\n",
    "data_m['year'] = data_m['date'].dt.year\n",
    "data_m.sort_values(['date'],\n",
    "                   ascending=False,\n",
    "                   inplace=True)\n",
    "\n",
    "## First reinvested at market\n",
    "data_m['vwretd_tp1'] = data_m.groupby(['year'])\\\n",
    "                             ['vwretd']\\\n",
    "                             .shift()\n",
    "data_m['vwretd_tp1'] = data_m['vwretd_tp1'].copy() + 1.0\n",
    "data_m['vwretd_tp1'].fillna(1.0,\n",
    "                            inplace=True)\n",
    "data_m['vwretd_cumprod'] = data_m.groupby(['year'])\\\n",
    "                                 ['vwretd_tp1']\\\n",
    "                                 .cumprod()\n",
    "data_m['div_m'] = data_m['div'].copy() * data_m['vwretd_cumprod'].copy()\n",
    "\n",
    "## Then reinvested at cash\n",
    "data_m['rf_tp1'] = data_m.groupby(['year'])\\\n",
    "                         ['rf']\\\n",
    "                         .shift()\n",
    "data_m['rf_tp1'] = data_m['rf_tp1'].copy() + 1.0\n",
    "data_m['rf_tp1'].fillna(1.0,\n",
    "                        inplace=True)\n",
    "data_m['rf_cumprod'] = data_m.groupby(['year'])\\\n",
    "                              ['rf_tp1']\\\n",
    "                              .cumprod()\n",
    "data_m['div_c'] = data_m['div'].copy() * data_m['rf_cumprod'].copy()"
   ]
  },
  {
   "cell_type": "markdown",
   "metadata": {},
   "source": [
    "## 3. Resample to annual"
   ]
  },
  {
   "cell_type": "code",
   "execution_count": 7,
   "metadata": {},
   "outputs": [],
   "source": [
    "## Get levels of dividends by sum, following Chen 2009\n",
    "## Then get annual dividend growth by YoY change\n",
    "data_a_div = data_m.groupby(['year'])\\\n",
    "                   [['div','div_m','div_c']]\\\n",
    "                   .sum()\n",
    "data_a_div_yoy = data_a_div.copy()/data_a_div.copy().shift() - 1.0\n",
    "\n",
    "## Levels of prices by last\n",
    "## Then get returns\n",
    "data_m.sort_values(['year'],\n",
    "                   inplace=True)\n",
    "data_a_p = data_m.groupby(['year'])\\\n",
    "                 [['totval']]\\\n",
    "                 .last()\n",
    "data_a_ret = data_a_p.copy() / data_a_p.copy().shift() -1.0                 "
   ]
  },
  {
   "cell_type": "code",
   "execution_count": 8,
   "metadata": {},
   "outputs": [],
   "source": [
    "## Get geometric annual return and dividend growth\n",
    "## First get MoM growth in dividend\n",
    "for this_col in ['div','div_c','div_m']:\n",
    "    data_m[this_col+'_mom'] = data_m[this_col].copy() / data_m[this_col].copy().shift() - 1.0\n",
    "    \n",
    "## Then get annualized geometric\n",
    "data_m_sub = data_m[['year','vwretd','div_mom','div_c_mom','div_m_mom']].copy()\n",
    "data_m_sub.set_index(['year'],\n",
    "                     inplace=True)\n",
    "data_m_sub = data_m_sub.copy() + 1.0\n",
    "data_m_sub.reset_index(inplace=True)\n",
    "#data_a_geo = data_m_sub.resample('Y').prod()\n",
    "data_a_geo = data_m_sub.groupby(['year'])\\\n",
    "                       [['vwretd','div_mom','div_c_mom','div_m_mom']]\\\n",
    "                       .prod()\n",
    "#for this_col in data_a_geo.columns:\n",
    "#    data_a_geo[this_col] = data_a_geo[this_col].apply(lambda x: np.power(x,1/12))\n",
    "data_a_geo = data_a_geo.copy() - 1.0\n",
    "\n",
    "## First year only has 9 months of data, so exclude\n",
    "data_a_geo = data_a_geo.iloc[1:].copy()"
   ]
  },
  {
   "cell_type": "code",
   "execution_count": 9,
   "metadata": {},
   "outputs": [
    {
     "data": {
      "text/html": [
       "<div>\n",
       "<style scoped>\n",
       "    .dataframe tbody tr th:only-of-type {\n",
       "        vertical-align: middle;\n",
       "    }\n",
       "\n",
       "    .dataframe tbody tr th {\n",
       "        vertical-align: top;\n",
       "    }\n",
       "\n",
       "    .dataframe thead th {\n",
       "        text-align: right;\n",
       "    }\n",
       "</style>\n",
       "<table border=\"1\" class=\"dataframe\">\n",
       "  <thead>\n",
       "    <tr style=\"text-align: right;\">\n",
       "      <th></th>\n",
       "      <th>vwretd</th>\n",
       "      <th>div_mom</th>\n",
       "      <th>div_c_mom</th>\n",
       "      <th>div_m_mom</th>\n",
       "    </tr>\n",
       "  </thead>\n",
       "  <tbody>\n",
       "    <tr>\n",
       "      <th>mean</th>\n",
       "      <td>12.37</td>\n",
       "      <td>27.76</td>\n",
       "      <td>27.87</td>\n",
       "      <td>28.78</td>\n",
       "    </tr>\n",
       "    <tr>\n",
       "      <th>std</th>\n",
       "      <td>17.02</td>\n",
       "      <td>78.40</td>\n",
       "      <td>79.05</td>\n",
       "      <td>85.05</td>\n",
       "    </tr>\n",
       "  </tbody>\n",
       "</table>\n",
       "</div>"
      ],
      "text/plain": [
       "      vwretd  div_mom  div_c_mom  div_m_mom\n",
       "mean   12.37    27.76      27.87      28.78\n",
       "std    17.02    78.40      79.05      85.05"
      ]
     },
     "execution_count": 9,
     "metadata": {},
     "output_type": "execute_result"
    }
   ],
   "source": [
    "(data_a_geo*100.0).agg(['mean','std']).round(2)"
   ]
  },
  {
   "cell_type": "code",
   "execution_count": 10,
   "metadata": {},
   "outputs": [
    {
     "data": {
      "text/html": [
       "<div>\n",
       "<style scoped>\n",
       "    .dataframe tbody tr th:only-of-type {\n",
       "        vertical-align: middle;\n",
       "    }\n",
       "\n",
       "    .dataframe tbody tr th {\n",
       "        vertical-align: top;\n",
       "    }\n",
       "\n",
       "    .dataframe thead th {\n",
       "        text-align: right;\n",
       "    }\n",
       "</style>\n",
       "<table border=\"1\" class=\"dataframe\">\n",
       "  <thead>\n",
       "    <tr style=\"text-align: right;\">\n",
       "      <th></th>\n",
       "      <th>div</th>\n",
       "      <th>div_m</th>\n",
       "      <th>div_c</th>\n",
       "    </tr>\n",
       "  </thead>\n",
       "  <tbody>\n",
       "    <tr>\n",
       "      <th>mean</th>\n",
       "      <td>8.39</td>\n",
       "      <td>8.87</td>\n",
       "      <td>8.41</td>\n",
       "    </tr>\n",
       "    <tr>\n",
       "      <th>std</th>\n",
       "      <td>7.39</td>\n",
       "      <td>13.45</td>\n",
       "      <td>7.67</td>\n",
       "    </tr>\n",
       "  </tbody>\n",
       "</table>\n",
       "</div>"
      ],
      "text/plain": [
       "       div  div_m  div_c\n",
       "mean  8.39   8.87   8.41\n",
       "std   7.39  13.45   7.67"
      ]
     },
     "execution_count": 10,
     "metadata": {},
     "output_type": "execute_result"
    }
   ],
   "source": [
    "(data_a_div_yoy*100.0).agg(['mean','std']).round(2)"
   ]
  },
  {
   "cell_type": "code",
   "execution_count": 11,
   "metadata": {},
   "outputs": [
    {
     "data": {
      "text/html": [
       "<div>\n",
       "<style scoped>\n",
       "    .dataframe tbody tr th:only-of-type {\n",
       "        vertical-align: middle;\n",
       "    }\n",
       "\n",
       "    .dataframe tbody tr th {\n",
       "        vertical-align: top;\n",
       "    }\n",
       "\n",
       "    .dataframe thead th {\n",
       "        text-align: right;\n",
       "    }\n",
       "</style>\n",
       "<table border=\"1\" class=\"dataframe\">\n",
       "  <thead>\n",
       "    <tr style=\"text-align: right;\">\n",
       "      <th></th>\n",
       "      <th>totval</th>\n",
       "    </tr>\n",
       "  </thead>\n",
       "  <tbody>\n",
       "    <tr>\n",
       "      <th>mean</th>\n",
       "      <td>11.07</td>\n",
       "    </tr>\n",
       "    <tr>\n",
       "      <th>std</th>\n",
       "      <td>16.93</td>\n",
       "    </tr>\n",
       "  </tbody>\n",
       "</table>\n",
       "</div>"
      ],
      "text/plain": [
       "      totval\n",
       "mean   11.07\n",
       "std    16.93"
      ]
     },
     "execution_count": 11,
     "metadata": {},
     "output_type": "execute_result"
    }
   ],
   "source": [
    "(data_a_ret*100.0).agg(['mean','std']).round(2)"
   ]
  },
  {
   "cell_type": "code",
   "execution_count": 12,
   "metadata": {},
   "outputs": [],
   "source": [
    "## Final annual data set\n",
    "## Returns are geometric\n",
    "## Dividend growth are as in Chen... so YoY, where each year is reinvested\n",
    "## Dividend level are by last as in Chen\n",
    "## Prices are by last\n",
    "## Price dividend in like that\n",
    "data_a = pd.merge(left=data_a_geo[['vwretd']],\n",
    "                  right=data_a_div,\n",
    "                  left_index=True,\n",
    "                  right_index=True,\n",
    "                  how='outer')\n",
    "data_a = pd.merge(left=data_a,\n",
    "                  right=data_a_div_yoy.add_suffix('_yoy'),\n",
    "                  left_index=True,\n",
    "                  right_index=True,\n",
    "                  how='outer')\n",
    "data_a = pd.merge(left=data_a,\n",
    "                  right=data_a_p,\n",
    "                  left_index=True,\n",
    "                  right_index=True,\n",
    "                  how='outer')\n",
    "                  \n",
    "## Drop 1945 due to way we annualized\n",
    "data_a.dropna(inplace=True)"
   ]
  },
  {
   "cell_type": "code",
   "execution_count": 13,
   "metadata": {},
   "outputs": [
    {
     "data": {
      "text/html": [
       "<div>\n",
       "<style scoped>\n",
       "    .dataframe tbody tr th:only-of-type {\n",
       "        vertical-align: middle;\n",
       "    }\n",
       "\n",
       "    .dataframe tbody tr th {\n",
       "        vertical-align: top;\n",
       "    }\n",
       "\n",
       "    .dataframe thead th {\n",
       "        text-align: right;\n",
       "    }\n",
       "</style>\n",
       "<table border=\"1\" class=\"dataframe\">\n",
       "  <thead>\n",
       "    <tr style=\"text-align: right;\">\n",
       "      <th></th>\n",
       "      <th>vwretd</th>\n",
       "      <th>div</th>\n",
       "      <th>div_m</th>\n",
       "      <th>div_c</th>\n",
       "      <th>div_yoy</th>\n",
       "      <th>div_m_yoy</th>\n",
       "      <th>div_c_yoy</th>\n",
       "      <th>totval</th>\n",
       "    </tr>\n",
       "    <tr>\n",
       "      <th>year</th>\n",
       "      <th></th>\n",
       "      <th></th>\n",
       "      <th></th>\n",
       "      <th></th>\n",
       "      <th></th>\n",
       "      <th></th>\n",
       "      <th></th>\n",
       "      <th></th>\n",
       "    </tr>\n",
       "  </thead>\n",
       "  <tbody>\n",
       "    <tr>\n",
       "      <th>1946</th>\n",
       "      <td>-0.064212</td>\n",
       "      <td>2.599130e+06</td>\n",
       "      <td>2.452587e+06</td>\n",
       "      <td>2.602721e+06</td>\n",
       "      <td>0.187221</td>\n",
       "      <td>-0.027530</td>\n",
       "      <td>0.187346</td>\n",
       "      <td>68731812.2</td>\n",
       "    </tr>\n",
       "    <tr>\n",
       "      <th>1947</th>\n",
       "      <td>0.032932</td>\n",
       "      <td>3.231866e+06</td>\n",
       "      <td>3.362856e+06</td>\n",
       "      <td>3.239573e+06</td>\n",
       "      <td>0.243441</td>\n",
       "      <td>0.371146</td>\n",
       "      <td>0.244687</td>\n",
       "      <td>59903329.3</td>\n",
       "    </tr>\n",
       "    <tr>\n",
       "      <th>1948</th>\n",
       "      <td>0.021313</td>\n",
       "      <td>3.757384e+06</td>\n",
       "      <td>3.743055e+06</td>\n",
       "      <td>3.767355e+06</td>\n",
       "      <td>0.162605</td>\n",
       "      <td>0.113058</td>\n",
       "      <td>0.162917</td>\n",
       "      <td>61917670.8</td>\n",
       "    </tr>\n",
       "    <tr>\n",
       "      <th>1949</th>\n",
       "      <td>0.201093</td>\n",
       "      <td>4.139718e+06</td>\n",
       "      <td>4.708998e+06</td>\n",
       "      <td>4.157121e+06</td>\n",
       "      <td>0.101756</td>\n",
       "      <td>0.258063</td>\n",
       "      <td>0.103459</td>\n",
       "      <td>55347129.8</td>\n",
       "    </tr>\n",
       "    <tr>\n",
       "      <th>1950</th>\n",
       "      <td>0.304734</td>\n",
       "      <td>5.265458e+06</td>\n",
       "      <td>5.954802e+06</td>\n",
       "      <td>5.289761e+06</td>\n",
       "      <td>0.271936</td>\n",
       "      <td>0.264558</td>\n",
       "      <td>0.272458</td>\n",
       "      <td>68546982.0</td>\n",
       "    </tr>\n",
       "  </tbody>\n",
       "</table>\n",
       "</div>"
      ],
      "text/plain": [
       "        vwretd           div         div_m         div_c   div_yoy  div_m_yoy  \\\n",
       "year                                                                            \n",
       "1946 -0.064212  2.599130e+06  2.452587e+06  2.602721e+06  0.187221  -0.027530   \n",
       "1947  0.032932  3.231866e+06  3.362856e+06  3.239573e+06  0.243441   0.371146   \n",
       "1948  0.021313  3.757384e+06  3.743055e+06  3.767355e+06  0.162605   0.113058   \n",
       "1949  0.201093  4.139718e+06  4.708998e+06  4.157121e+06  0.101756   0.258063   \n",
       "1950  0.304734  5.265458e+06  5.954802e+06  5.289761e+06  0.271936   0.264558   \n",
       "\n",
       "      div_c_yoy      totval  \n",
       "year                         \n",
       "1946   0.187346  68731812.2  \n",
       "1947   0.244687  59903329.3  \n",
       "1948   0.162917  61917670.8  \n",
       "1949   0.103459  55347129.8  \n",
       "1950   0.272458  68546982.0  "
      ]
     },
     "execution_count": 13,
     "metadata": {},
     "output_type": "execute_result"
    }
   ],
   "source": [
    "data_a.head()"
   ]
  },
  {
   "cell_type": "code",
   "execution_count": 14,
   "metadata": {},
   "outputs": [],
   "source": [
    "## Create variables\n",
    "data_a['log_ret'] = np.log(data_a['vwretd'].copy()+1.0)\n",
    "data_a['log_pd'] = np.log(data_a['totval'].copy() / data_a['div'].copy())\n",
    "data_a['log_pd_m'] = np.log(data_a['totval'].copy() / data_a['div_m'].copy())\n",
    "data_a['log_pd_c'] = np.log(data_a['totval'].copy() / data_a['div_c'].copy())\n",
    "data_a['log_div_yoy'] = np.log(data_a['div_yoy'].copy() + 1.0)\n",
    "data_a['log_div_m_yoy'] = np.log(data_a['div_m_yoy'].copy() + 1.0)\n",
    "data_a['log_div_c_yoy'] = np.log(data_a['div_c_yoy'].copy() + 1.0)"
   ]
  },
  {
   "cell_type": "code",
   "execution_count": 15,
   "metadata": {},
   "outputs": [],
   "source": [
    "data_a.reset_index(inplace=True)\n",
    "data_a.sort_values('year',inplace=True)\n",
    "for this_col in ['log_pd','log_pd_m','log_pd_c']:\n",
    "    data_a[this_col+'_tm1'] = data_a[this_col].copy().shift()"
   ]
  },
  {
   "cell_type": "code",
   "execution_count": 17,
   "metadata": {},
   "outputs": [],
   "source": [
    "data_a['pd'] = data_a['totval'].copy() / data_a['div']\n",
    "data_a['pd_m'] = data_a['totval'].copy() / data_a['div_m']\n",
    "data_a['pd_c'] = data_a['totval'].copy() / data_a['div_c']"
   ]
  },
  {
   "cell_type": "markdown",
   "metadata": {},
   "source": [
    "## 4. Out"
   ]
  },
  {
   "cell_type": "code",
   "execution_count": 18,
   "metadata": {},
   "outputs": [],
   "source": [
    "data_a.to_parquet(directory_cleandata+'data_a.parquet')"
   ]
  },
  {
   "cell_type": "code",
   "execution_count": null,
   "metadata": {},
   "outputs": [],
   "source": []
  }
 ],
 "metadata": {
  "interpreter": {
   "hash": "aee8b7b246df8f9039afb4144a1f6fd8d2ca17a180786b69acc140d282b71a49"
  },
  "kernelspec": {
   "display_name": "Python 3.9.9 64-bit",
   "language": "python",
   "name": "python3"
  },
  "language_info": {
   "codemirror_mode": {
    "name": "ipython",
    "version": 3
   },
   "file_extension": ".py",
   "mimetype": "text/x-python",
   "name": "python",
   "nbconvert_exporter": "python",
   "pygments_lexer": "ipython3",
   "version": "3.8.1"
  },
  "orig_nbformat": 4
 },
 "nbformat": 4,
 "nbformat_minor": 2
}
