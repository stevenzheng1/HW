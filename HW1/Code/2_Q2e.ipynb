{
 "cells": [
  {
   "cell_type": "code",
   "execution_count": 1,
   "metadata": {},
   "outputs": [
    {
     "name": "stdout",
     "output_type": "stream",
     "text": [
      "INFO: Pandarallel will run on 8 workers.\n",
      "INFO: Pandarallel will use standard multiprocessing data transfer (pipe) to transfer data between the main process and workers.\n"
     ]
    }
   ],
   "source": [
    "from this_settings import *"
   ]
  },
  {
   "cell_type": "markdown",
   "metadata": {},
   "source": [
    "## 1. Load data"
   ]
  },
  {
   "cell_type": "code",
   "execution_count": 10,
   "metadata": {},
   "outputs": [],
   "source": [
    "data = pd.read_parquet(directory_cleandata+'data_a.parquet')\n",
    "data_early = data[data['year']<=1989].copy()\n",
    "data_late = data[data['year']>1989].copy()"
   ]
  },
  {
   "cell_type": "code",
   "execution_count": 11,
   "metadata": {},
   "outputs": [
    {
     "data": {
      "text/html": [
       "<div>\n",
       "<style scoped>\n",
       "    .dataframe tbody tr th:only-of-type {\n",
       "        vertical-align: middle;\n",
       "    }\n",
       "\n",
       "    .dataframe tbody tr th {\n",
       "        vertical-align: top;\n",
       "    }\n",
       "\n",
       "    .dataframe thead th {\n",
       "        text-align: right;\n",
       "    }\n",
       "</style>\n",
       "<table border=\"1\" class=\"dataframe\">\n",
       "  <thead>\n",
       "    <tr style=\"text-align: right;\">\n",
       "      <th></th>\n",
       "      <th>year</th>\n",
       "      <th>vwretd</th>\n",
       "      <th>div</th>\n",
       "      <th>div_m</th>\n",
       "      <th>div_c</th>\n",
       "      <th>div_yoy</th>\n",
       "      <th>div_m_yoy</th>\n",
       "      <th>div_c_yoy</th>\n",
       "      <th>totval</th>\n",
       "      <th>log_ret</th>\n",
       "      <th>log_pd</th>\n",
       "      <th>log_pd_m</th>\n",
       "      <th>log_pd_c</th>\n",
       "      <th>log_div_yoy</th>\n",
       "      <th>log_div_m_yoy</th>\n",
       "      <th>log_div_c_yoy</th>\n",
       "      <th>log_pd_tm1</th>\n",
       "      <th>log_pd_m_tm1</th>\n",
       "      <th>log_pd_c_tm1</th>\n",
       "    </tr>\n",
       "  </thead>\n",
       "  <tbody>\n",
       "    <tr>\n",
       "      <th>0</th>\n",
       "      <td>1946</td>\n",
       "      <td>-0.064212</td>\n",
       "      <td>2.599130e+06</td>\n",
       "      <td>2.452587e+06</td>\n",
       "      <td>2.602721e+06</td>\n",
       "      <td>0.187221</td>\n",
       "      <td>-0.027530</td>\n",
       "      <td>0.187346</td>\n",
       "      <td>68731812.2</td>\n",
       "      <td>-0.066366</td>\n",
       "      <td>3.275036</td>\n",
       "      <td>3.333069</td>\n",
       "      <td>3.273655</td>\n",
       "      <td>0.171616</td>\n",
       "      <td>-0.027916</td>\n",
       "      <td>0.171720</td>\n",
       "      <td>NaN</td>\n",
       "      <td>NaN</td>\n",
       "      <td>NaN</td>\n",
       "    </tr>\n",
       "    <tr>\n",
       "      <th>1</th>\n",
       "      <td>1947</td>\n",
       "      <td>0.032932</td>\n",
       "      <td>3.231866e+06</td>\n",
       "      <td>3.362856e+06</td>\n",
       "      <td>3.239573e+06</td>\n",
       "      <td>0.243441</td>\n",
       "      <td>0.371146</td>\n",
       "      <td>0.244687</td>\n",
       "      <td>59903329.3</td>\n",
       "      <td>0.032401</td>\n",
       "      <td>2.919673</td>\n",
       "      <td>2.879941</td>\n",
       "      <td>2.917290</td>\n",
       "      <td>0.217883</td>\n",
       "      <td>0.315647</td>\n",
       "      <td>0.218884</td>\n",
       "      <td>3.275036</td>\n",
       "      <td>3.333069</td>\n",
       "      <td>3.273655</td>\n",
       "    </tr>\n",
       "    <tr>\n",
       "      <th>2</th>\n",
       "      <td>1948</td>\n",
       "      <td>0.021313</td>\n",
       "      <td>3.757384e+06</td>\n",
       "      <td>3.743055e+06</td>\n",
       "      <td>3.767355e+06</td>\n",
       "      <td>0.162605</td>\n",
       "      <td>0.113058</td>\n",
       "      <td>0.162917</td>\n",
       "      <td>61917670.8</td>\n",
       "      <td>0.021090</td>\n",
       "      <td>2.802083</td>\n",
       "      <td>2.805903</td>\n",
       "      <td>2.799432</td>\n",
       "      <td>0.150663</td>\n",
       "      <td>0.107111</td>\n",
       "      <td>0.150932</td>\n",
       "      <td>2.919673</td>\n",
       "      <td>2.879941</td>\n",
       "      <td>2.917290</td>\n",
       "    </tr>\n",
       "    <tr>\n",
       "      <th>3</th>\n",
       "      <td>1949</td>\n",
       "      <td>0.201093</td>\n",
       "      <td>4.139718e+06</td>\n",
       "      <td>4.708998e+06</td>\n",
       "      <td>4.157121e+06</td>\n",
       "      <td>0.101756</td>\n",
       "      <td>0.258063</td>\n",
       "      <td>0.103459</td>\n",
       "      <td>55347129.8</td>\n",
       "      <td>0.183232</td>\n",
       "      <td>2.592997</td>\n",
       "      <td>2.464150</td>\n",
       "      <td>2.588802</td>\n",
       "      <td>0.096905</td>\n",
       "      <td>0.229573</td>\n",
       "      <td>0.098450</td>\n",
       "      <td>2.802083</td>\n",
       "      <td>2.805903</td>\n",
       "      <td>2.799432</td>\n",
       "    </tr>\n",
       "    <tr>\n",
       "      <th>4</th>\n",
       "      <td>1950</td>\n",
       "      <td>0.304734</td>\n",
       "      <td>5.265458e+06</td>\n",
       "      <td>5.954802e+06</td>\n",
       "      <td>5.289761e+06</td>\n",
       "      <td>0.271936</td>\n",
       "      <td>0.264558</td>\n",
       "      <td>0.272458</td>\n",
       "      <td>68546982.0</td>\n",
       "      <td>0.266000</td>\n",
       "      <td>2.566351</td>\n",
       "      <td>2.443321</td>\n",
       "      <td>2.561746</td>\n",
       "      <td>0.240540</td>\n",
       "      <td>0.234723</td>\n",
       "      <td>0.240950</td>\n",
       "      <td>2.592997</td>\n",
       "      <td>2.464150</td>\n",
       "      <td>2.588802</td>\n",
       "    </tr>\n",
       "  </tbody>\n",
       "</table>\n",
       "</div>"
      ],
      "text/plain": [
       "   year    vwretd           div         div_m         div_c   div_yoy  \\\n",
       "0  1946 -0.064212  2.599130e+06  2.452587e+06  2.602721e+06  0.187221   \n",
       "1  1947  0.032932  3.231866e+06  3.362856e+06  3.239573e+06  0.243441   \n",
       "2  1948  0.021313  3.757384e+06  3.743055e+06  3.767355e+06  0.162605   \n",
       "3  1949  0.201093  4.139718e+06  4.708998e+06  4.157121e+06  0.101756   \n",
       "4  1950  0.304734  5.265458e+06  5.954802e+06  5.289761e+06  0.271936   \n",
       "\n",
       "   div_m_yoy  div_c_yoy      totval   log_ret    log_pd  log_pd_m  log_pd_c  \\\n",
       "0  -0.027530   0.187346  68731812.2 -0.066366  3.275036  3.333069  3.273655   \n",
       "1   0.371146   0.244687  59903329.3  0.032401  2.919673  2.879941  2.917290   \n",
       "2   0.113058   0.162917  61917670.8  0.021090  2.802083  2.805903  2.799432   \n",
       "3   0.258063   0.103459  55347129.8  0.183232  2.592997  2.464150  2.588802   \n",
       "4   0.264558   0.272458  68546982.0  0.266000  2.566351  2.443321  2.561746   \n",
       "\n",
       "   log_div_yoy  log_div_m_yoy  log_div_c_yoy  log_pd_tm1  log_pd_m_tm1  \\\n",
       "0     0.171616      -0.027916       0.171720         NaN           NaN   \n",
       "1     0.217883       0.315647       0.218884    3.275036      3.333069   \n",
       "2     0.150663       0.107111       0.150932    2.919673      2.879941   \n",
       "3     0.096905       0.229573       0.098450    2.802083      2.805903   \n",
       "4     0.240540       0.234723       0.240950    2.592997      2.464150   \n",
       "\n",
       "   log_pd_c_tm1  \n",
       "0           NaN  \n",
       "1      3.273655  \n",
       "2      2.917290  \n",
       "3      2.799432  \n",
       "4      2.588802  "
      ]
     },
     "execution_count": 11,
     "metadata": {},
     "output_type": "execute_result"
    }
   ],
   "source": [
    "data.head()"
   ]
  },
  {
   "cell_type": "markdown",
   "metadata": {},
   "source": [
    "## 2. Full sample"
   ]
  },
  {
   "cell_type": "code",
   "execution_count": 25,
   "metadata": {},
   "outputs": [],
   "source": [
    "reg_r = sm.OLS(endog=data['log_ret'],\n",
    "               exog=sm.add_constant(data['log_pd_c_tm1']),\n",
    "               missing='drop')\\\n",
    "        .fit()"
   ]
  },
  {
   "cell_type": "code",
   "execution_count": 26,
   "metadata": {},
   "outputs": [],
   "source": [
    "reg_d = sm.OLS(endog=data['log_div_c_yoy'],\n",
    "               exog=sm.add_constant(data['log_pd_c_tm1']),\n",
    "               missing='drop')\\\n",
    "        .fit()"
   ]
  },
  {
   "cell_type": "code",
   "execution_count": 27,
   "metadata": {},
   "outputs": [
    {
     "name": "stdout",
     "output_type": "stream",
     "text": [
      "                            OLS Regression Results                            \n",
      "==============================================================================\n",
      "Dep. Variable:                log_ret   R-squared:                       0.057\n",
      "Model:                            OLS   Adj. R-squared:                  0.044\n",
      "Method:                 Least Squares   F-statistic:                     4.373\n",
      "Date:                Sun, 10 Apr 2022   Prob (F-statistic):             0.0400\n",
      "Time:                        21:30:38   Log-Likelihood:                 32.754\n",
      "No. Observations:                  75   AIC:                            -61.51\n",
      "Df Residuals:                      73   BIC:                            -56.87\n",
      "Df Model:                           1                                         \n",
      "Covariance Type:            nonrobust                                         \n",
      "================================================================================\n",
      "                   coef    std err          t      P>|t|      [0.025      0.975]\n",
      "--------------------------------------------------------------------------------\n",
      "const            0.4214      0.152      2.779      0.007       0.119       0.724\n",
      "log_pd_c_tm1    -0.0904      0.043     -2.091      0.040      -0.177      -0.004\n",
      "==============================================================================\n",
      "Omnibus:                       12.473   Durbin-Watson:                   2.206\n",
      "Prob(Omnibus):                  0.002   Jarque-Bera (JB):               13.246\n",
      "Skew:                          -0.887   Prob(JB):                      0.00133\n",
      "Kurtosis:                       4.046   Cond. No.                         31.4\n",
      "==============================================================================\n",
      "\n",
      "Warnings:\n",
      "[1] Standard Errors assume that the covariance matrix of the errors is correctly specified.\n"
     ]
    }
   ],
   "source": [
    "print(reg_r.summary())"
   ]
  },
  {
   "cell_type": "code",
   "execution_count": 28,
   "metadata": {},
   "outputs": [
    {
     "name": "stdout",
     "output_type": "stream",
     "text": [
      "                            OLS Regression Results                            \n",
      "==============================================================================\n",
      "Dep. Variable:          log_div_c_yoy   R-squared:                       0.020\n",
      "Model:                            OLS   Adj. R-squared:                  0.007\n",
      "Method:                 Least Squares   F-statistic:                     1.493\n",
      "Date:                Sun, 10 Apr 2022   Prob (F-statistic):              0.226\n",
      "Time:                        21:30:38   Log-Likelihood:                 93.961\n",
      "No. Observations:                  75   AIC:                            -183.9\n",
      "Df Residuals:                      73   BIC:                            -179.3\n",
      "Df Model:                           1                                         \n",
      "Covariance Type:            nonrobust                                         \n",
      "================================================================================\n",
      "                   coef    std err          t      P>|t|      [0.025      0.975]\n",
      "--------------------------------------------------------------------------------\n",
      "const            0.1584      0.067      2.362      0.021       0.025       0.292\n",
      "log_pd_c_tm1    -0.0234      0.019     -1.222      0.226      -0.061       0.015\n",
      "==============================================================================\n",
      "Omnibus:                        8.022   Durbin-Watson:                   1.608\n",
      "Prob(Omnibus):                  0.018   Jarque-Bera (JB):               16.676\n",
      "Skew:                           0.028   Prob(JB):                     0.000239\n",
      "Kurtosis:                       5.309   Cond. No.                         31.4\n",
      "==============================================================================\n",
      "\n",
      "Warnings:\n",
      "[1] Standard Errors assume that the covariance matrix of the errors is correctly specified.\n"
     ]
    }
   ],
   "source": [
    "print(reg_d.summary())"
   ]
  },
  {
   "cell_type": "markdown",
   "metadata": {},
   "source": [
    "## 2. Early sample"
   ]
  },
  {
   "cell_type": "code",
   "execution_count": 29,
   "metadata": {},
   "outputs": [],
   "source": [
    "reg_r = sm.OLS(endog=data_early['log_ret'],\n",
    "               exog=sm.add_constant(data_early['log_pd_c_tm1']),\n",
    "               missing='drop')\\\n",
    "        .fit()"
   ]
  },
  {
   "cell_type": "code",
   "execution_count": 30,
   "metadata": {},
   "outputs": [],
   "source": [
    "reg_d = sm.OLS(endog=data_early['log_div_c_yoy'],\n",
    "               exog=sm.add_constant(data_early['log_pd_c_tm1']),\n",
    "               missing='drop')\\\n",
    "        .fit()"
   ]
  },
  {
   "cell_type": "code",
   "execution_count": 31,
   "metadata": {},
   "outputs": [
    {
     "name": "stdout",
     "output_type": "stream",
     "text": [
      "                            OLS Regression Results                            \n",
      "==============================================================================\n",
      "Dep. Variable:                log_ret   R-squared:                       0.173\n",
      "Model:                            OLS   Adj. R-squared:                  0.153\n",
      "Method:                 Least Squares   F-statistic:                     8.599\n",
      "Date:                Sun, 10 Apr 2022   Prob (F-statistic):            0.00548\n",
      "Time:                        21:30:45   Log-Likelihood:                 23.780\n",
      "No. Observations:                  43   AIC:                            -43.56\n",
      "Df Residuals:                      41   BIC:                            -40.04\n",
      "Df Model:                           1                                         \n",
      "Covariance Type:            nonrobust                                         \n",
      "================================================================================\n",
      "                   coef    std err          t      P>|t|      [0.025      0.975]\n",
      "--------------------------------------------------------------------------------\n",
      "const            0.9065      0.272      3.336      0.002       0.358       1.455\n",
      "log_pd_c_tm1    -0.2488      0.085     -2.932      0.005      -0.420      -0.077\n",
      "==============================================================================\n",
      "Omnibus:                        1.234   Durbin-Watson:                   2.252\n",
      "Prob(Omnibus):                  0.540   Jarque-Bera (JB):                1.116\n",
      "Skew:                          -0.375   Prob(JB):                        0.572\n",
      "Kurtosis:                       2.755   Cond. No.                         43.9\n",
      "==============================================================================\n",
      "\n",
      "Warnings:\n",
      "[1] Standard Errors assume that the covariance matrix of the errors is correctly specified.\n"
     ]
    }
   ],
   "source": [
    "print(reg_r.summary())"
   ]
  },
  {
   "cell_type": "code",
   "execution_count": 32,
   "metadata": {},
   "outputs": [
    {
     "name": "stdout",
     "output_type": "stream",
     "text": [
      "                            OLS Regression Results                            \n",
      "==============================================================================\n",
      "Dep. Variable:          log_div_c_yoy   R-squared:                       0.003\n",
      "Model:                            OLS   Adj. R-squared:                 -0.021\n",
      "Method:                 Least Squares   F-statistic:                    0.1180\n",
      "Date:                Sun, 10 Apr 2022   Prob (F-statistic):              0.733\n",
      "Time:                        21:30:45   Log-Likelihood:                 62.009\n",
      "No. Observations:                  43   AIC:                            -120.0\n",
      "Df Residuals:                      41   BIC:                            -116.5\n",
      "Df Model:                           1                                         \n",
      "Covariance Type:            nonrobust                                         \n",
      "================================================================================\n",
      "                   coef    std err          t      P>|t|      [0.025      0.975]\n",
      "--------------------------------------------------------------------------------\n",
      "const            0.1259      0.112      1.127      0.266      -0.100       0.351\n",
      "log_pd_c_tm1    -0.0120      0.035     -0.343      0.733      -0.082       0.058\n",
      "==============================================================================\n",
      "Omnibus:                        3.256   Durbin-Watson:                   1.591\n",
      "Prob(Omnibus):                  0.196   Jarque-Bera (JB):                2.449\n",
      "Skew:                           0.579   Prob(JB):                        0.294\n",
      "Kurtosis:                       3.162   Cond. No.                         43.9\n",
      "==============================================================================\n",
      "\n",
      "Warnings:\n",
      "[1] Standard Errors assume that the covariance matrix of the errors is correctly specified.\n"
     ]
    }
   ],
   "source": [
    "print(reg_d.summary())"
   ]
  },
  {
   "cell_type": "markdown",
   "metadata": {},
   "source": [
    "## 3. Late sample"
   ]
  },
  {
   "cell_type": "code",
   "execution_count": 33,
   "metadata": {},
   "outputs": [],
   "source": [
    "reg_r = sm.OLS(endog=data_late['log_ret'],\n",
    "               exog=sm.add_constant(data_late['log_pd_c_tm1']),\n",
    "               missing='drop')\\\n",
    "        .fit()"
   ]
  },
  {
   "cell_type": "code",
   "execution_count": 34,
   "metadata": {},
   "outputs": [],
   "source": [
    "reg_d = sm.OLS(endog=data_late['log_div_c_yoy'],\n",
    "               exog=sm.add_constant(data_late['log_pd_c_tm1']),\n",
    "               missing='drop')\\\n",
    "        .fit()"
   ]
  },
  {
   "cell_type": "code",
   "execution_count": 35,
   "metadata": {},
   "outputs": [
    {
     "name": "stdout",
     "output_type": "stream",
     "text": [
      "                            OLS Regression Results                            \n",
      "==============================================================================\n",
      "Dep. Variable:                log_ret   R-squared:                       0.058\n",
      "Model:                            OLS   Adj. R-squared:                  0.027\n",
      "Method:                 Least Squares   F-statistic:                     1.853\n",
      "Date:                Sun, 10 Apr 2022   Prob (F-statistic):              0.184\n",
      "Time:                        21:30:51   Log-Likelihood:                 12.127\n",
      "No. Observations:                  32   AIC:                            -20.25\n",
      "Df Residuals:                      30   BIC:                            -17.32\n",
      "Df Model:                           1                                         \n",
      "Covariance Type:            nonrobust                                         \n",
      "================================================================================\n",
      "                   coef    std err          t      P>|t|      [0.025      0.975]\n",
      "--------------------------------------------------------------------------------\n",
      "const            0.7052      0.446      1.580      0.125      -0.206       1.617\n",
      "log_pd_c_tm1    -0.1567      0.115     -1.361      0.184      -0.392       0.078\n",
      "==============================================================================\n",
      "Omnibus:                       14.622   Durbin-Watson:                   2.177\n",
      "Prob(Omnibus):                  0.001   Jarque-Bera (JB):               16.173\n",
      "Skew:                          -1.305   Prob(JB):                     0.000308\n",
      "Kurtosis:                       5.306   Cond. No.                         61.0\n",
      "==============================================================================\n",
      "\n",
      "Warnings:\n",
      "[1] Standard Errors assume that the covariance matrix of the errors is correctly specified.\n"
     ]
    }
   ],
   "source": [
    "print(reg_r.summary())"
   ]
  },
  {
   "cell_type": "code",
   "execution_count": 36,
   "metadata": {},
   "outputs": [
    {
     "name": "stdout",
     "output_type": "stream",
     "text": [
      "                            OLS Regression Results                            \n",
      "==============================================================================\n",
      "Dep. Variable:          log_div_c_yoy   R-squared:                       0.002\n",
      "Model:                            OLS   Adj. R-squared:                 -0.032\n",
      "Method:                 Least Squares   F-statistic:                   0.05295\n",
      "Date:                Sun, 10 Apr 2022   Prob (F-statistic):              0.820\n",
      "Time:                        21:30:52   Log-Likelihood:                 34.798\n",
      "No. Observations:                  32   AIC:                            -65.60\n",
      "Df Residuals:                      30   BIC:                            -62.66\n",
      "Df Model:                           1                                         \n",
      "Covariance Type:            nonrobust                                         \n",
      "================================================================================\n",
      "                   coef    std err          t      P>|t|      [0.025      0.975]\n",
      "--------------------------------------------------------------------------------\n",
      "const            0.0123      0.220      0.056      0.956      -0.437       0.461\n",
      "log_pd_c_tm1     0.0130      0.057      0.230      0.820      -0.103       0.129\n",
      "==============================================================================\n",
      "Omnibus:                        5.867   Durbin-Watson:                   1.640\n",
      "Prob(Omnibus):                  0.053   Jarque-Bera (JB):                7.055\n",
      "Skew:                          -0.147   Prob(JB):                       0.0294\n",
      "Kurtosis:                       5.281   Cond. No.                         61.0\n",
      "==============================================================================\n",
      "\n",
      "Warnings:\n",
      "[1] Standard Errors assume that the covariance matrix of the errors is correctly specified.\n"
     ]
    }
   ],
   "source": [
    "print(reg_d.summary())"
   ]
  },
  {
   "cell_type": "code",
   "execution_count": null,
   "metadata": {},
   "outputs": [],
   "source": []
  }
 ],
 "metadata": {
  "interpreter": {
   "hash": "e552f05e79514180fcdba6f4254ada59d081db11e27ce9e937d58c6f6786d456"
  },
  "kernelspec": {
   "display_name": "Python 3.8.1 ('py38')",
   "language": "python",
   "name": "python3"
  },
  "language_info": {
   "codemirror_mode": {
    "name": "ipython",
    "version": 3
   },
   "file_extension": ".py",
   "mimetype": "text/x-python",
   "name": "python",
   "nbconvert_exporter": "python",
   "pygments_lexer": "ipython3",
   "version": "3.7.7"
  },
  "orig_nbformat": 4
 },
 "nbformat": 4,
 "nbformat_minor": 2
}
